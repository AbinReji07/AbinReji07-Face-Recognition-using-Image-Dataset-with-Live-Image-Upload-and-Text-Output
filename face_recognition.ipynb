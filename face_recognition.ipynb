{
 "cells": [
  {
   "cell_type": "code",
   "execution_count": 1,
   "id": "e8c57681",
   "metadata": {},
   "outputs": [],
   "source": [
    "import cv2"
   ]
  },
  {
   "cell_type": "code",
   "execution_count": 2,
   "id": "3cf8caf4",
   "metadata": {},
   "outputs": [],
   "source": [
    "def name_map(x):\n",
    "    if x==\"sachin\":\n",
    "        return 0\n",
    "    if x==\"obama\":\n",
    "        return 1\n",
    "    if x==\"messi\":\n",
    "        return 2"
   ]
  },
  {
   "cell_type": "code",
   "execution_count": 3,
   "id": "98e2886c",
   "metadata": {},
   "outputs": [],
   "source": [
    "def get_name(x):\n",
    "    if x==0:\n",
    "        return \"sachin\"\n",
    "    if x==1:\n",
    "        return \"obama\"\n",
    "    if x==2:\n",
    "        return \"messi\""
   ]
  },
  {
   "cell_type": "code",
   "execution_count": 4,
   "id": "881cbaf8",
   "metadata": {},
   "outputs": [],
   "source": [
    "def detect_img(img):\n",
    "    gray=cv2.cvtColor(img,cv2.COLOR_BGR2GRAY)\n",
    "    face_cascade=cv2.CascadeClassifier(r\"C:\\Users\\Abin\\Desktop\\dl projects\\face_recognition\\haarcascade_frontalface_default.xml\")\n",
    "    face=face_cascade.detectMultiScale(gray,minNeighbors=4)\n",
    "    #print(face[0])#only considering one face\n",
    "    if len(face)==0:\n",
    "        return None,None\n",
    "    x,y,w,h=face[0]\n",
    "    return gray[x:x+w,y:y+h],face[0]"
   ]
  },
  {
   "cell_type": "code",
   "execution_count": 5,
   "id": "edf7c975",
   "metadata": {},
   "outputs": [],
   "source": [
    "import os"
   ]
  },
  {
   "cell_type": "code",
   "execution_count": 6,
   "id": "2bb55f3a",
   "metadata": {},
   "outputs": [],
   "source": [
    "def prepare_training_data(data_fol):#C:\\Users\\Abin\\Desktop\\dl projects\\face_recognition\\db\\messi\n",
    "    dirs=os.listdir(data_fol)\n",
    "    #print(dirs)\n",
    "    faces=[]\n",
    "    labels=[]\n",
    "    for i in dirs:#messi,obamma,sachin\n",
    "        sub_dir=data_fol+\"/\"+i\n",
    "        #print(sub_dir)\n",
    "        images=os.listdir(sub_dir)\n",
    "        #print(images)\n",
    "        for img in images:\n",
    "            imgpath=sub_dir+\"/\"+img\n",
    "            #print(imgpath)\n",
    "            image=cv2.imread(imgpath)\n",
    "            cv2.imshow(\"training images\",image)\n",
    "            cv2.waitKey(1000)\n",
    "            #detecting face from each image\n",
    "            face,rect=detect_img(image)\n",
    "            if face is not None:\n",
    "                faces.append(face)\n",
    "                labels.append(name_map(i))#name_map(messi)\n",
    "                #print(labels)\n",
    "    cv2.waitKey(1)\n",
    "    cv2.destroyAllWindows()\n",
    "    return faces,labels\n"
   ]
  },
  {
   "cell_type": "code",
   "execution_count": 7,
   "id": "fb2b3e9a",
   "metadata": {},
   "outputs": [
    {
     "name": "stdout",
     "output_type": "stream",
     "text": [
      "[2, 2, 2, 2, 2, 2, 2, 2, 2, 2, 1, 1, 1, 1, 1, 1, 1, 1, 1, 1, 0, 0, 0, 0, 0, 0, 0, 0, 0]\n"
     ]
    }
   ],
   "source": [
    "faces,labels=prepare_training_data(r\"C:\\Users\\Abin\\Desktop\\dl projects\\face_recognition\\db\")\n",
    "print(labels)"
   ]
  },
  {
   "cell_type": "code",
   "execution_count": 8,
   "id": "e3dfa3bd",
   "metadata": {},
   "outputs": [
    {
     "name": "stdout",
     "output_type": "stream",
     "text": [
      "29\n"
     ]
    }
   ],
   "source": [
    "print(len(faces))"
   ]
  },
  {
   "cell_type": "code",
   "execution_count": 9,
   "id": "8cd91255",
   "metadata": {},
   "outputs": [
    {
     "data": {
      "text/plain": [
       "< cv2.face.LBPHFaceRecognizer 00000214E9810CF0>"
      ]
     },
     "execution_count": 9,
     "metadata": {},
     "output_type": "execute_result"
    }
   ],
   "source": [
    "#creating an object\n",
    "recogniser=cv2.face.LBPHFaceRecognizer_create()\n",
    "recogniser"
   ]
  },
  {
   "cell_type": "code",
   "execution_count": 10,
   "id": "59548035",
   "metadata": {},
   "outputs": [],
   "source": [
    "#lbph-local binary pattern program\n",
    "#training the recogniser\n",
    "import numpy as np\n",
    "recogniser.train(faces,np.array(labels))"
   ]
  },
  {
   "cell_type": "code",
   "execution_count": 11,
   "id": "c831d012",
   "metadata": {},
   "outputs": [],
   "source": [
    "def draw_rectangle(img,rect):\n",
    "    (x,y,w,h)=rect\n",
    "    cv2.rectangle(img,(x,y),(x+w,y+h),(0,0,255),4)"
   ]
  },
  {
   "cell_type": "code",
   "execution_count": 12,
   "id": "76e4c203",
   "metadata": {},
   "outputs": [],
   "source": [
    "def write_text(img,text,x,y):\n",
    "    cv2.putText(img,text,(x,y),cv2.FONT_HERSHEY_DUPLEX,1,(255,0,0),3)"
   ]
  },
  {
   "cell_type": "code",
   "execution_count": 13,
   "id": "90f659d1",
   "metadata": {},
   "outputs": [],
   "source": [
    "#predicting new image\n",
    "def predict_new(test_img):\n",
    "    img=test_img.copy()\n",
    "    face,rect=detect_img(img)\n",
    "    label=recogniser.predict(face)\n",
    "    #print(label)\n",
    "    label_text=get_name(label[0])\n",
    "    #print(label_text)\n",
    "    draw_rectangle(img,rect)\n",
    "    write_text(img,label_text,rect[0],rect[1])\n",
    "    return img\n"
   ]
  },
  {
   "cell_type": "code",
   "execution_count": 14,
   "id": "57c7402a",
   "metadata": {},
   "outputs": [],
   "source": [
    "test_img=cv2.imread(r\"C:\\Users\\Abin\\Desktop\\dl projects\\face_recognition\\messi_img.jpg\")\n",
    "predicted=predict_new(test_img)\n",
    "cv2.imshow(\"predicted image\",predicted)\n",
    "cv2.waitKey()\n",
    "cv2.destroyAllWindows()"
   ]
  },
  {
   "cell_type": "code",
   "execution_count": 15,
   "id": "6afe15aa",
   "metadata": {},
   "outputs": [
    {
     "data": {
      "text/plain": [
       "(array([[164, 139, 106, ..., 154, 152, 150],\n",
       "        [165, 146, 109, ..., 158, 156, 154],\n",
       "        [175, 152, 105, ..., 164, 161, 160],\n",
       "        ...,\n",
       "        [ 84,  83,  83, ...,  83,  81,  80],\n",
       "        [ 85,  85,  85, ...,  81,  79,  78],\n",
       "        [ 89,  90,  92, ...,  72,  72,  73]], dtype=uint8),\n",
       " array([ 25,  32, 128, 128]))"
      ]
     },
     "execution_count": 15,
     "metadata": {},
     "output_type": "execute_result"
    }
   ],
   "source": [
    "img=cv2.imread(r\"C:\\Users\\Abin\\Desktop\\dl projects\\face_recognition\\db\\messi\\05.jpg\")\n",
    "detect_img(img)"
   ]
  },
  {
   "cell_type": "code",
   "execution_count": null,
   "id": "5d1ad3b1",
   "metadata": {},
   "outputs": [],
   "source": []
  }
 ],
 "metadata": {
  "kernelspec": {
   "display_name": "Python 3",
   "language": "python",
   "name": "python3"
  },
  "language_info": {
   "codemirror_mode": {
    "name": "ipython",
    "version": 3
   },
   "file_extension": ".py",
   "mimetype": "text/x-python",
   "name": "python",
   "nbconvert_exporter": "python",
   "pygments_lexer": "ipython3",
   "version": "3.8.10"
  }
 },
 "nbformat": 4,
 "nbformat_minor": 5
}
